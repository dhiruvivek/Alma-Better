{
  "nbformat": 4,
  "nbformat_minor": 0,
  "metadata": {
    "colab": {
      "private_outputs": true,
      "provenance": [],
      "collapsed_sections": [
        "vncDsAP0Gaoa"
      ]
    },
    "kernelspec": {
      "name": "python3",
      "display_name": "Python 3"
    },
    "language_info": {
      "name": "python"
    }
  },
  "cells": [
    {
      "cell_type": "markdown",
      "source": [
        "## **AirBnb Booking Analysis**\n",
        "\n"
      ],
      "metadata": {
        "id": "vncDsAP0Gaoa"
      }
    },
    {
      "cell_type": "markdown",
      "source": [
        "##### **Project Type**    - EDA/Regression/Classification/Unsupervised\n",
        "##### **Contribution**    - Individual/Team\n",
        "##### **Team Member 1 -**\n",
        "##### **Team Member 2 -**\n",
        "##### **Team Member 3 -**\n",
        "##### **Team Member 4 -**"
      ],
      "metadata": {
        "id": "beRrZCGUAJYm"
      }
    },
    {
      "cell_type": "markdown",
      "source": [
        "# **Project Summary -**"
      ],
      "metadata": {
        "id": "FJNUwmbgGyua"
      }
    },
    {
      "cell_type": "markdown",
      "source": [
        "Since 2008, guests and hosts have used Airbnb to expand on traveling possibilities and present a more unique, personalized way of experiencing the world. Today, Airbnb became one of a kind service that is used and recognized by the whole world. Data analysis on millions of listings provided through Airbnb is a crucial factor for the company. These millions of listings generate a lot of data - data that can be analyzed and used for security, business decisions, understanding of customers' and providers' (hosts) behavior and performance on the platform, guiding marketing initiatives, implementation of innovative additional services and much more.\n",
        "\n",
        "This dataset has around 49,000 observations in it with 16 columns and it is a mix between categorical and numeric values."
      ],
      "metadata": {
        "id": "F6v_1wHtG2nS"
      }
    },
    {
      "cell_type": "markdown",
      "source": [
        "[link text](https://)# **GitHub Link -**"
      ],
      "metadata": {
        "id": "w6K7xa23Elo4"
      }
    },
    {
      "cell_type": "markdown",
      "source": [
        "Provide your GitHub Link here."
      ],
      "metadata": {
        "id": "h1o69JH3Eqqn"
      }
    },
    {
      "cell_type": "markdown",
      "source": [
        "# **Problem Statement**\n"
      ],
      "metadata": {
        "id": "yQaldy8SH6Dl"
      }
    },
    {
      "cell_type": "markdown",
      "source": [
        "**EDA**\n",
        "Exploratory Data Analysis (EDA) is an approach to analyze the data using visual techniques. It is used to discover trends, patterns, or to check assumptions with the help of statistical summary and graphical representations.\n",
        "\n",
        "\n",
        "\n",
        "*   Since 2008, guests and hosts have used Airbnb to expand on traveling possibilities and present a more unique, personalized way of experiencing the world. Today, Airbnb became one of a kind service that is used and recognized by the whole world\n",
        "*   Data analysis on millions of listings provided through AirBnb is a crucial for company.\n",
        "*   These millions of listings generate a lot of data - data that can be analyzed and used for security, business decisions, understanding of customers' and providers' (hosts) behavior and performance on the platform, guiding marketing initiatives, implementation of innovative additional services and much more.\n",
        "\n",
        "\n",
        "\n",
        "\n",
        "\n",
        "\n",
        "\n",
        "\n"
      ],
      "metadata": {
        "id": "DpeJGUA3kjGy"
      }
    },
    {
      "cell_type": "markdown",
      "source": [
        "#### **Define Your Business Objective?**"
      ],
      "metadata": {
        "id": "PH-0ReGfmX4f"
      }
    },
    {
      "cell_type": "markdown",
      "source": [
        "\n",
        "\n",
        "*   Finding the total number of listings available in New York.\n",
        "*   Find the average price .\n",
        "*   Find the owner/hosts who has the most number of listings throughout NewYork.\n",
        "*   Find out the reason how price is affecting the maximum reviewed place.\n",
        "*   To see the price variation for different listings throughout New York.\n",
        "\n",
        "\n",
        "\n",
        "\n"
      ],
      "metadata": {
        "id": "QWF7MxAxUMp1"
      }
    },
    {
      "cell_type": "markdown",
      "source": [
        "Answer Here."
      ],
      "metadata": {
        "id": "PhDvGCAqmjP1"
      }
    },
    {
      "cell_type": "markdown",
      "source": [
        "# **General Guidelines** : -  "
      ],
      "metadata": {
        "id": "mDgbUHAGgjLW"
      }
    },
    {
      "cell_type": "markdown",
      "source": [
        "1.   Well-structured, formatted, and commented code is required. \n",
        "2.   Exception Handling, Production Grade Code & Deployment Ready Code will be a plus. Those students will be awarded some additional credits. \n",
        "     \n",
        "     The additional credits will have advantages over other students during Star Student selection.\n",
        "       \n",
        "             [ Note: - Deployment Ready Code is defined as, the whole .ipynb notebook should be executable in one go\n",
        "                       without a single error logged. ]\n",
        "\n",
        "3.   Each and every logic should have proper comments.\n",
        "4. You may add as many number of charts you want. Make Sure for each and every chart the following format should be answered.\n",
        "        \n",
        "\n",
        "```\n",
        "# Chart visualization code\n",
        "```\n",
        "            \n",
        "\n",
        "*   Why did you pick the specific chart?\n",
        "*   What is/are the insight(s) found from the chart?\n",
        "* Will the gained insights help creating a positive business impact? \n",
        "Are there any insights that lead to negative growth? Justify with specific reason.\n",
        "\n",
        "5. You have to create at least 20 logical & meaningful charts having important insights.\n",
        "\n",
        "\n",
        "[ Hints : - Do the Vizualization in  a structured way while following \"UBM\" Rule. \n",
        "\n",
        "U - Univariate Analysis,\n",
        "\n",
        "B - Bivariate Analysis (Numerical - Categorical, Numerical - Numerical, Categorical - Categorical)\n",
        "\n",
        "M - Multivariate Analysis\n",
        " ]\n",
        "\n",
        "\n",
        "\n"
      ],
      "metadata": {
        "id": "ZrxVaUj-hHfC"
      }
    },
    {
      "cell_type": "markdown",
      "source": [
        "# ***Let's Begin !***"
      ],
      "metadata": {
        "id": "O_i_v8NEhb9l"
      }
    },
    {
      "cell_type": "markdown",
      "source": [
        "## ***1. Know Your Data***"
      ],
      "metadata": {
        "id": "HhfV-JJviCcP"
      }
    },
    {
      "cell_type": "markdown",
      "source": [
        "### Import Libraries"
      ],
      "metadata": {
        "id": "Y3lxredqlCYt"
      }
    },
    {
      "cell_type": "code",
      "source": [
        "# Import Libraries\n",
        "import pandas as pd\n",
        "import numpy as np\n",
        "import matplotlib.pyplot as plt\n",
        "%matplotlib inline\n",
        "import seaborn as sns\n",
        "from datetime import datetime"
      ],
      "metadata": {
        "id": "M8Vqi-pPk-HR"
      },
      "execution_count": null,
      "outputs": []
    },
    {
      "cell_type": "markdown",
      "source": [
        "**Now we mount the drive and import the dataset (AirBnb NYC 2019)**"
      ],
      "metadata": {
        "id": "ki-JzTg9WXNN"
      }
    },
    {
      "cell_type": "code",
      "source": [
        "#Drive Mounting\n",
        "from google.colab import drive\n",
        "drive.mount('/content/drive')"
      ],
      "metadata": {
        "id": "fQmn7UKbWpx6"
      },
      "execution_count": null,
      "outputs": []
    },
    {
      "cell_type": "code",
      "source": [
        "# import dataset from drive\n",
        "file_path= '/content/drive/MyDrive/Colab Notebooks/data/Airbnb NYC 2019.csv'\n",
        "airbnb_df=pd.read_csv(file_path)"
      ],
      "metadata": {
        "id": "TVSbFZIPW6F2"
      },
      "execution_count": null,
      "outputs": []
    },
    {
      "cell_type": "markdown",
      "source": [
        "### Dataset First View"
      ],
      "metadata": {
        "id": "x71ZqKXriCWQ"
      }
    },
    {
      "cell_type": "code",
      "source": [
        "# Dataset First Look\n",
        "# Top 5 Row of data\n",
        "airbnb_df.head()"
      ],
      "metadata": {
        "id": "LWNFOSvLl09H"
      },
      "execution_count": null,
      "outputs": []
    },
    {
      "cell_type": "code",
      "source": [
        "#Top 5 columns of data\n",
        "airbnb_df.tail()"
      ],
      "metadata": {
        "id": "sLMQOe1oXpAp"
      },
      "execution_count": null,
      "outputs": []
    },
    {
      "cell_type": "markdown",
      "source": [
        "### Dataset Rows & Columns count"
      ],
      "metadata": {
        "id": "7hBIi_osiCS2"
      }
    },
    {
      "cell_type": "code",
      "source": [
        "# Dataset Rows & Columns count\n",
        "airbnb_df.shape"
      ],
      "metadata": {
        "id": "Kllu7SJgmLij"
      },
      "execution_count": null,
      "outputs": []
    },
    {
      "cell_type": "markdown",
      "source": [
        "### Dataset Information"
      ],
      "metadata": {
        "id": "JlHwYmJAmNHm"
      }
    },
    {
      "cell_type": "code",
      "source": [
        "# Dataset Info\n",
        "airbnb_df.info()"
      ],
      "metadata": {
        "id": "e9hRXRi6meOf"
      },
      "execution_count": null,
      "outputs": []
    },
    {
      "cell_type": "markdown",
      "source": [
        "#### Duplicate Values"
      ],
      "metadata": {
        "id": "35m5QtbWiB9F"
      }
    },
    {
      "cell_type": "code",
      "source": [
        "# Dataset Duplicate Value Count\n",
        "airbnb_df.duplicated().sum()"
      ],
      "metadata": {
        "id": "1sLdpKYkmox0"
      },
      "execution_count": null,
      "outputs": []
    },
    {
      "cell_type": "markdown",
      "source": [
        "There are 0 duplicate values present."
      ],
      "metadata": {
        "id": "PY2GAeew29Jo"
      }
    },
    {
      "cell_type": "markdown",
      "source": [
        "#### Missing Values/Null Values"
      ],
      "metadata": {
        "id": "PoPl-ycgm1ru"
      }
    },
    {
      "cell_type": "code",
      "source": [
        "# Missing Values/Null Values Count\n",
        "airbnb_df.isna().sum()"
      ],
      "metadata": {
        "id": "GgHWkxvamxVg"
      },
      "execution_count": null,
      "outputs": []
    },
    {
      "cell_type": "markdown",
      "source": [
        "\n",
        "There are 16 missing values in \"name\" column and 21 missing values in host_name which we can ignore because it is very less in comparision to the data frame.\n",
        "We can ignore the \"name\" and \"host_name\" columns missing values s we have unique ids for name and host_name.\n",
        "\n",
        "But columns \"last_review\" and \"review_per_month\" have noticeable records which are missing. \n",
        "\n",
        "we can replace the NaN in \"review_per_month\" with 0 and drop the last_review column."
      ],
      "metadata": {
        "id": "1i48V5KIMeMq"
      }
    },
    {
      "cell_type": "code",
      "source": [
        "# Visualizing the missing values\n",
        "import missingno as msno #to visualize the mising values\n"
      ],
      "metadata": {
        "id": "3q5wnI3om9sJ"
      },
      "execution_count": null,
      "outputs": []
    },
    {
      "cell_type": "code",
      "source": [
        "msno.bar(airbnb_df)"
      ],
      "metadata": {
        "id": "ji1jRUbVQ3Y5"
      },
      "execution_count": null,
      "outputs": []
    },
    {
      "cell_type": "code",
      "source": [
        "msno.matrix(airbnb_df)"
      ],
      "metadata": {
        "id": "ySASTRcMrJYt"
      },
      "execution_count": null,
      "outputs": []
    },
    {
      "cell_type": "markdown",
      "source": [
        "black area shows the non null value and white area shows null values. \n",
        "last_reveiw & reviews_per_month have a lot of missing values.\n",
        " we will replace the missing value of \"reviews_per_month\" with 0 and drop the column \"last_review\""
      ],
      "metadata": {
        "id": "FjiiB5TZrSjW"
      }
    },
    {
      "cell_type": "code",
      "source": [
        "airbnb_df.shape"
      ],
      "metadata": {
        "id": "Xo7P8JQqr9Qd"
      },
      "execution_count": null,
      "outputs": []
    },
    {
      "cell_type": "markdown",
      "source": [
        "# ***Treating Null Values***"
      ],
      "metadata": {
        "id": "LMe8rJAEsQLP"
      }
    },
    {
      "cell_type": "code",
      "source": [
        "#Replacing null value of review_permonth with 0\n",
        "airbnb_df['reviews_per_month'].fillna(0,inplace=True)"
      ],
      "metadata": {
        "id": "d23H3UL1scWN"
      },
      "execution_count": null,
      "outputs": []
    },
    {
      "cell_type": "code",
      "source": [
        "#dropping columns that are not significant or could be unethical to use for our future data exploration and predictions\n",
        "airbnb_df.drop(['last_review', 'id', 'host_name'], axis=1, inplace= True)"
      ],
      "metadata": {
        "id": "mFhw_eousoXY"
      },
      "execution_count": null,
      "outputs": []
    },
    {
      "cell_type": "code",
      "source": [
        "airbnb_df.info()"
      ],
      "metadata": {
        "id": "1jajCvI3tZGD"
      },
      "execution_count": null,
      "outputs": []
    },
    {
      "cell_type": "code",
      "source": [
        "airbnb_df.head(2)"
      ],
      "metadata": {
        "id": "ln1R6aYytwra"
      },
      "execution_count": null,
      "outputs": []
    },
    {
      "cell_type": "code",
      "source": [
        "#checking the null value again\n",
        "airbnb_df.isna().sum()"
      ],
      "metadata": {
        "id": "ZZSRyhKXt9hR"
      },
      "execution_count": null,
      "outputs": []
    },
    {
      "cell_type": "markdown",
      "source": [
        "### What did you know about your dataset?"
      ],
      "metadata": {
        "id": "H0kj-8xxnORC"
      }
    },
    {
      "cell_type": "code",
      "source": [
        "#Know the columns names\n",
        "airbnb_df.columns"
      ],
      "metadata": {
        "id": "kn5EVmkCQ1Nb"
      },
      "execution_count": null,
      "outputs": []
    },
    {
      "cell_type": "markdown",
      "source": [
        "Lets know more about the price column as this needs more attention then other columns."
      ],
      "metadata": {
        "id": "AF_KjCz1ykNo"
      }
    },
    {
      "cell_type": "markdown",
      "source": [
        "## ***2. Understanding Your Variables***"
      ],
      "metadata": {
        "id": "nA9Y7ga8ng1Z"
      }
    },
    {
      "cell_type": "code",
      "source": [
        "# Dataset Describe\n",
        "airbnb_df.price.describe()"
      ],
      "metadata": {
        "id": "DnOaZdaE5Q5t"
      },
      "execution_count": null,
      "outputs": []
    },
    {
      "cell_type": "markdown",
      "source": [
        "# **Treating Outliers**"
      ],
      "metadata": {
        "id": "HbcKQ5CuzNXy"
      }
    },
    {
      "cell_type": "code",
      "source": [
        "plt.figure(figsize=(10,5))\n",
        "plt.ylim(0,1500)\n",
        "sns.boxplot(x='neighbourhood_group', y='price', data=airbnb_df)\n",
        "plt.show()"
      ],
      "metadata": {
        "id": "hc8n8Q6vzZYO"
      },
      "execution_count": null,
      "outputs": []
    },
    {
      "cell_type": "code",
      "source": [
        "len(airbnb_df[airbnb_df['price']>500])\n"
      ],
      "metadata": {
        "id": "H0w2xSWql5QZ"
      },
      "execution_count": null,
      "outputs": []
    },
    {
      "cell_type": "markdown",
      "source": [
        "We can see that price varies from 0 till 10,000 but there are a wide range of outliers present in here. We will try to minimize the outliers instead of removing them completely as we don't want to lose any data in here.We observed there are only 1044 records which are having more than 500 as the price. So just taking the price of property which are more than 500 as 600, which will just minimize the number of outliers."
      ],
      "metadata": {
        "id": "u3PMJOP6ngxN"
      }
    },
    {
      "cell_type": "code",
      "source": [
        "airbnb_df['price'][airbnb_df['price']>600] = 600"
      ],
      "metadata": {
        "id": "Tp6y_UJ1ou3v"
      },
      "execution_count": null,
      "outputs": []
    },
    {
      "cell_type": "code",
      "source": [
        "plt.figure(figsize=(10,5))\n",
        "plt.ylim(0,1000)\n",
        "sns.boxplot(x='neighbourhood_group', y='price',data=airbnb_df)\n",
        "plt.show()\n"
      ],
      "metadata": {
        "id": "zms12Yq5n-jE"
      },
      "execution_count": null,
      "outputs": []
    },
    {
      "cell_type": "markdown",
      "source": [
        "Now we even treated outliers(just minimized) and treated NaN, we will start with analysing what observations can be drawn from the dataframe in here."
      ],
      "metadata": {
        "id": "gAeT3f1IzZ3s"
      }
    },
    {
      "cell_type": "markdown",
      "source": [
        "### **Exploratory Data Analysis (EDA)**\n",
        "\n",
        "###1) **Rentals/properties present in Neighbourhood group , Neighbourhood, Room type**\n",
        "### **a) No. of rentals/properties which are grouped by room_type in each neighbourhood**"
      ],
      "metadata": {
        "id": "dauF4eBmngu3"
      }
    },
    {
      "cell_type": "code",
      "source": [
        "#Lets find the neighbourhood group\n",
        "airbnb_df.neighbourhood_group.unique()"
      ],
      "metadata": {
        "id": "n74mEXMk0CgH"
      },
      "execution_count": null,
      "outputs": []
    },
    {
      "cell_type": "code",
      "source": [
        "airbnb_df.groupby(['neighbourhood_group'],dropna=True)['room_type'].value_counts()\n"
      ],
      "metadata": {
        "id": "xwS-7LBrpx0V"
      },
      "execution_count": null,
      "outputs": []
    },
    {
      "cell_type": "code",
      "source": [
        "plt.figure(figsize=(10,5))\n",
        "sns.countplot(x='neighbourhood_group', hue='room_type', data=airbnb_df)\n",
        "plt.show()"
      ],
      "metadata": {
        "id": "Ugfh8dqppzi1"
      },
      "execution_count": null,
      "outputs": []
    },
    {
      "cell_type": "markdown",
      "source": [
        "Throughout NY, we have our properties located in 5 neighbourhood group. Clearly we can see that the cities Manhattan and Brooklyn are the cities with most number of properties. We can even obseve the room_type in here.\n",
        "\n",
        "There are 3 categories available in room_type. And we can even observe the number of properties in each room_type in those 5 cities. We can get the conclusion,\n",
        "\n",
        "(1)more number of properties of home are avialbale in Manhattan when compared to all cities\n",
        "\n",
        "(2)the private room properties are varying from cities to cities. Count of private roomtypes are all high/almost equal to the number of home properties except Manhattan\n",
        "\n",
        "(3)shared room properties are very few in all cities\n",
        "\n"
      ],
      "metadata": {
        "id": "rbNGXvAcqI__"
      }
    },
    {
      "cell_type": "markdown",
      "source": [
        "**b)Total number of rentals/properties in each neighbourhood group**\n"
      ],
      "metadata": {
        "id": "iioE8SuUqPp_"
      }
    },
    {
      "cell_type": "code",
      "source": [
        "list(airbnb_df.neighbourhood_group.unique())"
      ],
      "metadata": {
        "id": "GoH2QKbmp3gd"
      },
      "execution_count": null,
      "outputs": []
    },
    {
      "cell_type": "code",
      "source": [
        "nbd_grp_counts=pd.value_counts(airbnb_df['neighbourhood_group'])\n",
        "print(nbd_grp_counts)\n",
        "plt.plot(nbd_grp_counts)\n",
        "plt.xlabel(\"Neighbourhood Group\")\n",
        "plt.ylabel(\"Counts\")\n",
        "plt.title(\"Number of Properties in Neighbourhood Group\")"
      ],
      "metadata": {
        "id": "tMxE33GQ7yHr"
      },
      "execution_count": null,
      "outputs": []
    },
    {
      "cell_type": "markdown",
      "source": [
        "This gives information about the count of properties present in those 5 cities. We can observe that Brooklyn and Manhattan has more properties when compared to all 5 cities. In particular, Manhattan is the city which is busy city with most properties to offer"
      ],
      "metadata": {
        "id": "t0Pga8xD1qTt"
      }
    },
    {
      "cell_type": "markdown",
      "source": [
        "## **Total count of room types available in NYC**"
      ],
      "metadata": {
        "id": "UOORmgUVBOku"
      }
    },
    {
      "cell_type": "code",
      "source": [
        "from pandas._libs.hashtable import value_count\n",
        "pd.value_counts(airbnb_df['room_type'])"
      ],
      "metadata": {
        "id": "ebkNJKhLqee5"
      },
      "execution_count": null,
      "outputs": []
    },
    {
      "cell_type": "code",
      "source": [
        "plt.figure(figsize=(10,5))\n",
        "sns.countplot(x='room_type', data= airbnb_df)\n",
        "plt.show()"
      ],
      "metadata": {
        "id": "8jqBn2M3qglR"
      },
      "execution_count": null,
      "outputs": []
    },
    {
      "cell_type": "markdown",
      "source": [
        "Overall just trying to fetch more information about the room_types in general, we have more properties in home/apt. We already know that home/apt is most demanded room_type throughout NY"
      ],
      "metadata": {
        "id": "l0OkmA4jB7TU"
      }
    },
    {
      "cell_type": "markdown",
      "source": [
        "## **Overall contributions of each neighbourhood in the count of listings throughout NYC**"
      ],
      "metadata": {
        "id": "QEoBfR7nB9JR"
      }
    },
    {
      "cell_type": "code",
      "source": [
        "plt.figure(figsize=(20,8))\n",
        "plt.title(\"Neighbourhood Group\")\n",
        "plt.pie(airbnb_df.neighbourhood_group.value_counts(), labels=airbnb_df.neighbourhood_group.value_counts().index,autopct='%1.1f%%', startangle=180)"
      ],
      "metadata": {
        "id": "1h_s1NT2Bwhg"
      },
      "execution_count": null,
      "outputs": []
    },
    {
      "cell_type": "markdown",
      "source": [
        "Highest Number of Bookings are in Manhatan with 44.3% of Overall"
      ],
      "metadata": {
        "id": "-nD4iba0EjJ3"
      }
    },
    {
      "cell_type": "markdown",
      "source": [
        "## **Availability_365 and the neighbourhood_group**"
      ],
      "metadata": {
        "id": "xgxHKb8aEsMT"
      }
    },
    {
      "cell_type": "code",
      "source": [
        "sns.boxplot(data=airbnb_df, x='neighbourhood_group',y='availability_365')"
      ],
      "metadata": {
        "id": "PqUJ04hDCKTa"
      },
      "execution_count": null,
      "outputs": []
    },
    {
      "cell_type": "markdown",
      "source": [
        "We can observe that the mean of listings count in Brooklyn, Manhattan and Queens are available only for 0 to 100 days a year.\n",
        "\n",
        "\n",
        "\n",
        "\n"
      ],
      "metadata": {
        "id": "ddyoS-NruiAO"
      }
    },
    {
      "cell_type": "markdown",
      "source": [
        "### **Average price for each neighbourhood group**\n",
        "\n",
        "We got to know that most properties are available in Manhattan. Now we even want to know the average price of all the properties for the cities."
      ],
      "metadata": {
        "id": "GMHA70scumKm"
      }
    },
    {
      "cell_type": "code",
      "source": [
        "avg_price_nbd= airbnb_df.groupby(['neighbourhood_group','room_type'],dropna=True)['price'].mean().reset_index()\n",
        "avg_price_nbd"
      ],
      "metadata": {
        "id": "0FgZJKD-upX0"
      },
      "execution_count": null,
      "outputs": []
    },
    {
      "cell_type": "code",
      "source": [
        "plt.figure(figsize=(10,5))\n",
        "sns.barplot(x='neighbourhood_group',y='price', hue='room_type', data=avg_price_nbd)\n",
        "plt.show()"
      ],
      "metadata": {
        "id": "pAsHmq1PuyEp"
      },
      "execution_count": null,
      "outputs": []
    },
    {
      "cell_type": "markdown",
      "source": [
        "We can observe that, Manhattan is the city which is in lead in all aspects. Its price for all room_type properties are pretty high when compared to the rest of the cities. Indeed its busy and famous city."
      ],
      "metadata": {
        "id": "QQT5vn-AvKDW"
      }
    },
    {
      "cell_type": "code",
      "source": [
        "airbnb_df.groupby(['neighbourhood_group'])['price'].mean().reset_index()"
      ],
      "metadata": {
        "id": "1qh_EJuMvCM_"
      },
      "execution_count": null,
      "outputs": []
    },
    {
      "cell_type": "code",
      "source": [
        "def nbd_avg_price(df,x_axis,y_axis):\n",
        "  group_price = df.groupby([x_axis],as_index=False)[y_axis].mean().reset_index(drop=True)\n",
        "  plt.figure(figsize=(10,5))\n",
        "  sns.barplot(x=group_price[x_axis],y=group_price[y_axis])\n",
        "  plt.ylabel('mean ' + y_axis)\n",
        "  plt.show()"
      ],
      "metadata": {
        "id": "gXRDrQGhvMQi"
      },
      "execution_count": null,
      "outputs": []
    },
    {
      "cell_type": "code",
      "source": [
        "nbd_avg_price(airbnb_df,'neighbourhood_group','price')"
      ],
      "metadata": {
        "id": "NMAk94JFvZyH"
      },
      "execution_count": null,
      "outputs": []
    },
    {
      "cell_type": "markdown",
      "source": [
        "We already saw that Manhattan is the city which has high price for all the room_type properties. Now in here,we just tried to fetch a visualization of price with neighbourhood_group alone."
      ],
      "metadata": {
        "id": "09Cpq5XpwUID"
      }
    },
    {
      "cell_type": "markdown",
      "source": [
        "## **Average Price for each neighbourhood areas in respective neighbourhood_groups**\n",
        "\n",
        "Trying to observe the trend of price for each areas/neighbourhood in those cities."
      ],
      "metadata": {
        "id": "EYERA5APwVuC"
      }
    },
    {
      "cell_type": "code",
      "source": [
        "n = airbnb_df.neighbourhood_group.unique()\n",
        "nbd_grp = list(n)\n",
        "\n",
        "for i in nbd_grp:\n",
        "  nbd_price= airbnb_df[airbnb_df['neighbourhood_group']==i].groupby(['neighbourhood'])['price'].mean().reset_index(drop=False)\n",
        "  nbd_price = pd.DataFrame(nbd_price)\n",
        "  plt.figure(figsize=(10,5))\n",
        "  plt.xticks(rotation=90)\n",
        "  plt.title(i)\n",
        "  plt.plot(nbd_price['neighbourhood'],nbd_price['price'])"
      ],
      "metadata": {
        "id": "e-v87iPzvcej"
      },
      "execution_count": null,
      "outputs": []
    },
    {
      "cell_type": "markdown",
      "source": [
        "We can observe that many cities are having very fluctuating price in their neighbourhood.Especially Manhattan is the city which has even very less price and even very high price in its neighbourhood."
      ],
      "metadata": {
        "id": "DO_55GfZxzbW"
      }
    },
    {
      "cell_type": "markdown",
      "source": [
        "### **Price distribution data in every neighbourhood_group**\n",
        "\n",
        "We already saw the price variation for the neighbourhood of each neighbourhood group.Now we trying to see some price distribution for each neighbour_group alone or i can say for the 5 cities."
      ],
      "metadata": {
        "id": "We-tsAZnx1iw"
      }
    },
    {
      "cell_type": "code",
      "source": [
        "for i in nbd_grp:\n",
        "  df_price=pd.DataFrame(airbnb_df['price'][airbnb_df['neighbourhood_group']==i])\n",
        "  print(i)\n",
        "  print(df_price.describe(),\"\\n\")"
      ],
      "metadata": {
        "id": "E0Zufsidw18w"
      },
      "execution_count": null,
      "outputs": []
    },
    {
      "cell_type": "markdown",
      "source": [
        "## **Overall Price distribution throught NY**\n",
        "\n",
        "Till now we discussed the price range only for neighbouhood / neighbourhood_group / room_type. Now lets focus on how well the price is varying throughout NY."
      ],
      "metadata": {
        "id": "gKGe70KFydtW"
      }
    },
    {
      "cell_type": "code",
      "source": [
        "plt.figure(figsize=(10,5))\n",
        "plt.xlim(0,2000)\n",
        "plt.xlabel('Price')\n",
        "plt.ylabel('Records')\n",
        "sns.distplot(airbnb_df['price'],bins=10,kde=True)\n",
        "plt.show()\n",
        "#A kernel density estimate (KDE) plot is a method for visualizing the distribution of observations in a dataset, analagous to a histogram."
      ],
      "metadata": {
        "id": "D_F04qPyyLlY"
      },
      "execution_count": null,
      "outputs": []
    },
    {
      "cell_type": "markdown",
      "source": [
        "We can observe that most of the price are in between the range 0 to 250.( We can say those properties are not that high until you want to opt for a fancy property with high price.)"
      ],
      "metadata": {
        "id": "auw_Nnesy1PK"
      }
    },
    {
      "cell_type": "markdown",
      "source": [
        "### **In search of a famous Host**\n",
        "\n",
        "\n",
        "Here I tried searching the famous host, i felt that whoever has the most number of properties(doesn't matter if its a private room/home/shared room) is the famous host. He has been offering those properties for the customers. And if the property count is more that means he has more to offer. So obviously he is the one famous host."
      ],
      "metadata": {
        "id": "BND_Lj-oy5LW"
      }
    },
    {
      "cell_type": "code",
      "source": [
        "famous_host = airbnb_df['host_id'].value_counts().head(20)\n",
        "famous_host = pd.DataFrame(famous_host)\n",
        "famous_host.reset_index(inplace=True)\n",
        "famous_host.rename(columns={'index':'Host_id','host_id':'Count'},inplace=True)\n",
        "famous_host.head(2)"
      ],
      "metadata": {
        "id": "TFyRp5YVzA-P"
      },
      "execution_count": null,
      "outputs": []
    },
    {
      "cell_type": "code",
      "source": [
        "#Top 10 Hosts\n",
        "plt1 = sns.barplot(x='Host_id',y='Count',data=famous_host)\n",
        "plt1.set_xticklabels(plt1.get_xticklabels(), rotation=90)"
      ],
      "metadata": {
        "id": "3sFTC5YMzC0m"
      },
      "execution_count": null,
      "outputs": []
    },
    {
      "cell_type": "markdown",
      "source": [
        "Above is the visualization which describes top 10 hosts whoever has the most number of properties to offer."
      ],
      "metadata": {
        "id": "Dj5_3kaB0sGC"
      }
    },
    {
      "cell_type": "code",
      "source": [
        "top_host_id = famous_host['Host_id'][famous_host['Count']==famous_host['Count'].max()]\n",
        "top_host_name = airbnb_df[['neighbourhood_group']][airbnb_df['host_id']==top_host_id[0]].head()\n",
        "top_host_name"
      ],
      "metadata": {
        "id": "ZgE9zkeDCdUv"
      },
      "execution_count": null,
      "outputs": []
    },
    {
      "cell_type": "code",
      "source": [
        "airbnb_df[['neighbourhood_group','neighbourhood','room_type','price','availability_365']][airbnb_df['host_id']==top_host_id[0]]"
      ],
      "metadata": {
        "id": "ams1MRkg0ps9"
      },
      "execution_count": null,
      "outputs": []
    },
    {
      "cell_type": "markdown",
      "source": [
        "The person with the Host Id- 219517861,  who we concluded that as famous host, has all the properties in Manhattan.\n",
        "\n",
        "(1)He is offering many properties with almost all as 'Entire_home'.\n",
        "\n",
        "(2)He has many properties in Financial Distict which may be more famous or i can say affordable to all. Because we can see the price as well, its reasonable one(not high/not low).\n",
        "\n",
        "(3)We can even check that all the properties are available for almost 300+days.\n",
        "\n",
        "So we can conclude that he is the famous one because he possesses the best properties(home properties) in best place(Manhattan)."
      ],
      "metadata": {
        "id": "KP0DAz4l1Mcn"
      }
    },
    {
      "cell_type": "markdown",
      "source": [
        "**Number_of_reviews**\n",
        "\n",
        "\n",
        "We tried analysing the data with respect to neighbourhood_group, neighbourhood, room_type, host_id and price. Now we will try to analyse Number of reviews and we will see what intrepretation we can get from here."
      ],
      "metadata": {
        "id": "e40Vl2Oc1Yl2"
      }
    },
    {
      "cell_type": "code",
      "source": [
        "top_reviewed_place=airbnb_df.nlargest(10,'number_of_reviews')\n",
        "top_reviewed_place.head(3)"
      ],
      "metadata": {
        "id": "u1bRSdmU0ujU"
      },
      "execution_count": null,
      "outputs": []
    },
    {
      "cell_type": "markdown",
      "source": [
        "### **Average price for the most_reviewed place:**"
      ],
      "metadata": {
        "id": "XkCANkML17gP"
      }
    },
    {
      "cell_type": "code",
      "source": [
        "price_avrg=top_reviewed_place.price.mean()\n",
        "print('Average price per night: {}'.format(price_avrg))"
      ],
      "metadata": {
        "id": "UXJ1bZ1F1hOd"
      },
      "execution_count": null,
      "outputs": []
    },
    {
      "cell_type": "markdown",
      "source": [
        "### **with respect to host ID**"
      ],
      "metadata": {
        "id": "9r2rjEfv2MPT"
      }
    },
    {
      "cell_type": "code",
      "source": [
        "nor_host = airbnb_df.groupby(['host_id'])['number_of_reviews'].max().reset_index()\n",
        "nor_host = nor_host.sort_values(['number_of_reviews'],ascending=False).head(10)\n",
        "nor_host"
      ],
      "metadata": {
        "id": "bRUBT2A22CFG"
      },
      "execution_count": null,
      "outputs": []
    },
    {
      "cell_type": "code",
      "source": [
        "plt2 = sns.barplot(nor_host['host_id'],nor_host['number_of_reviews'])\n",
        "plt2.set_xticklabels(plt2.get_xticklabels(), rotation=90)"
      ],
      "metadata": {
        "id": "W6SJNRnC2Wor"
      },
      "execution_count": null,
      "outputs": []
    },
    {
      "cell_type": "markdown",
      "source": [
        "We found the top 10 hosts whose place got the most number of reviews."
      ],
      "metadata": {
        "id": "10AH_uz_2rp7"
      }
    },
    {
      "cell_type": "markdown",
      "source": [
        "### **Number of reviews for each neighbourhood_group**"
      ],
      "metadata": {
        "id": "vOR9FuPL2tVB"
      }
    },
    {
      "cell_type": "code",
      "source": [
        "nor_nbd_grp = airbnb_df.groupby(['neighbourhood_group','room_type'])['number_of_reviews'].max().reset_index()\n",
        "nor_nbd_grp"
      ],
      "metadata": {
        "id": "ddaZgUzY2v2-"
      },
      "execution_count": null,
      "outputs": []
    },
    {
      "cell_type": "code",
      "source": [
        "sns.barplot(x=nor_nbd_grp['neighbourhood_group'],hue=nor_nbd_grp['room_type'],y=nor_nbd_grp['number_of_reviews'])\n"
      ],
      "metadata": {
        "id": "WA8z659e2zrn"
      },
      "execution_count": null,
      "outputs": []
    },
    {
      "cell_type": "markdown",
      "source": [
        "We can observe that Queens has the most_reviewed place in NY. Through this visualization we will get good comparision of the other neighbourhood as well.\n",
        "\n",
        "Overall,\n",
        "\n",
        "(1)So from the above result, we have the average price per night as 65.4.\n",
        "\n",
        "(2)And we can observe that host_id 47621202 has most number of reviews for his property which is in Queens. We can even consider him as the famous host for some reason as he has most reviewed place in NY. Again its all upto our conception.\n",
        "\n",
        "(3)the most reviewd place has very less price. That means we can conclude that the price which ever is very low, people tend to go to that home/private room. Hence it got most number of reviews.\n",
        "\n",
        "(4)From observed data (above 4 result), we have the total number of properties in Queens is 5666 and out of which Now we can see that 629 reviews were on single property. Its pretty good. So we can come to the conclusion that Queens is the place/city which got most reviewd place. It may be because its comparibly cheap when it compared to other cities like Manhattan/Brooklyn.\n",
        "\n",
        "(5) The top reviewed place was available for almost 333days out of 365 days of a year. Which gives us good picture that people tend to choose the property with less price and which is mostly available."
      ],
      "metadata": {
        "id": "PKSk4uoi3Fgu"
      }
    },
    {
      "cell_type": "markdown",
      "source": [
        "### **Average price for room_type throughout NY**\n",
        "\n",
        "Now we are focusing on the column room_type alone. We trying to find the average price for all room types throughout NY."
      ],
      "metadata": {
        "id": "Sy84lJo85bPf"
      }
    },
    {
      "cell_type": "code",
      "source": [
        "#avg_price_room_type = airbnb_df.groupby(['room_type']).agg({'price': ['mean', 'min', 'max']})\n",
        "avg_price_room_type = airbnb_df.groupby(['room_type'])['price'].mean().reset_index()\n",
        "avg_price_room_type"
      ],
      "metadata": {
        "id": "jK2s0sGY29pA"
      },
      "execution_count": null,
      "outputs": []
    },
    {
      "cell_type": "code",
      "source": [
        "sns.barplot(avg_price_room_type['room_type'],avg_price_room_type['price'])"
      ],
      "metadata": {
        "id": "Fypv1dIZ5i9F"
      },
      "execution_count": null,
      "outputs": []
    },
    {
      "cell_type": "markdown",
      "source": [
        "We can see that Entire home/Apt is in demand and it has the price high when compared to private_room/shared_room."
      ],
      "metadata": {
        "id": "g9baCUPM5p7x"
      }
    },
    {
      "cell_type": "markdown",
      "source": [
        "### **Average price of the place which is most available**"
      ],
      "metadata": {
        "id": "ItcOcC235sbP"
      }
    },
    {
      "cell_type": "code",
      "source": [
        "most_available_place=airbnb_df.nlargest(10,'availability_365')\n",
        "most_available_place.head(2)"
      ],
      "metadata": {
        "id": "kADk2PXR5mQl"
      },
      "execution_count": null,
      "outputs": []
    },
    {
      "cell_type": "code",
      "source": [
        "price_avrg=most_available_place.price.mean()\n",
        "print('Average price of most avialble place: {}'.format(price_avrg))"
      ],
      "metadata": {
        "id": "BeS2kVJ-5xnH"
      },
      "execution_count": null,
      "outputs": []
    },
    {
      "cell_type": "markdown",
      "source": [
        "We got to know that the average price for most available place is 150.3.We can see that its quite reasonable when compared to price range in total."
      ],
      "metadata": {
        "id": "dCGczcBp52tB"
      }
    },
    {
      "cell_type": "markdown",
      "source": [
        "## **Average price in descending order based on minimum_nights of stay**"
      ],
      "metadata": {
        "id": "AfI7tJvF54-p"
      }
    },
    {
      "cell_type": "code",
      "source": [
        "min_nights_stay = airbnb_df.groupby(['minimum_nights','neighbourhood_group','neighbourhood'],dropna=True)['price'].mean().reset_index()\n"
      ],
      "metadata": {
        "id": "Aatzn10j50Eg"
      },
      "execution_count": null,
      "outputs": []
    },
    {
      "cell_type": "code",
      "source": [
        "min_nights_stay.sort_values('minimum_nights',ascending=False,inplace=True)\n",
        "min_nights_stay"
      ],
      "metadata": {
        "id": "PPD4jzfb6C8h"
      },
      "execution_count": null,
      "outputs": []
    },
    {
      "cell_type": "code",
      "source": [
        "plt.scatter(min_nights_stay['minimum_nights'],min_nights_stay['price'])\n",
        "plt.xlabel('Minimum_nights')\n",
        "plt.ylabel('Price')"
      ],
      "metadata": {
        "id": "lxjLb1tk6Ey1"
      },
      "execution_count": null,
      "outputs": []
    },
    {
      "cell_type": "markdown",
      "source": [
        "We can clearly observe that we can't get much intrepetion from minimum_number_of_nights and price visualization. Even there are places with less price which has the minimum_nights as 1000 and vice versa. Because it mainly depends on the neighbourhood_group/city where you are staying."
      ],
      "metadata": {
        "id": "JFWsH7GH6Ljl"
      }
    },
    {
      "cell_type": "markdown",
      "source": [
        "### **Average price per night**"
      ],
      "metadata": {
        "id": "8lPFSJtB6PRP"
      }
    },
    {
      "cell_type": "code",
      "source": [
        "x = ['neighbourhood_group','room_type','minimum_nights','price']\n",
        "prvsmin = airbnb_df[x]\n",
        "prvsmin.head(5)"
      ],
      "metadata": {
        "id": "rB__KzC-6IS1"
      },
      "execution_count": null,
      "outputs": []
    },
    {
      "cell_type": "code",
      "source": [
        "# creating a new column which gives price per a single night\n",
        "prvsmin['price_per_night'] = prvsmin['price']/prvsmin['minimum_nights']\n",
        "prvsmin.head(5)"
      ],
      "metadata": {
        "id": "TQCrNBkf6Vmb"
      },
      "execution_count": null,
      "outputs": []
    },
    {
      "cell_type": "markdown",
      "source": [
        "## ** Average price per night for each neighbourhood along with room_type**"
      ],
      "metadata": {
        "id": "4eS0--z26fx0"
      }
    },
    {
      "cell_type": "code",
      "source": [
        "# finding the average price for each neighbourhood\n",
        "avg_price_per_night_nbd = prvsmin.groupby(['neighbourhood_group','room_type'])['price'].mean().reset_index()\n",
        "avg_price_per_night_nbd"
      ],
      "metadata": {
        "id": "8KJZSAoY6Y55"
      },
      "execution_count": null,
      "outputs": []
    },
    {
      "cell_type": "code",
      "source": [
        "sns.barplot(x=avg_price_per_night_nbd['neighbourhood_group'],hue=avg_price_per_night_nbd['room_type'],y=avg_price_per_night_nbd['price'])\n"
      ],
      "metadata": {
        "id": "nwQ9VCyw6jP-"
      },
      "execution_count": null,
      "outputs": []
    },
    {
      "cell_type": "markdown",
      "source": [
        "Over all, we can see that in every neighbourhood group, Entire home/apartment has the price high. And Manhattan is the neighbourhood which average price is high in all room types."
      ],
      "metadata": {
        "id": "mtmKORWJ6qMf"
      }
    },
    {
      "cell_type": "code",
      "source": [],
      "metadata": {
        "id": "-rt9yCJW6nYv"
      },
      "execution_count": null,
      "outputs": []
    },
    {
      "cell_type": "markdown",
      "source": [
        "### **Average price per night for all 5 neighbourhood**"
      ],
      "metadata": {
        "id": "PKO-ZFty6sit"
      }
    },
    {
      "cell_type": "code",
      "source": [
        "avg_price_per_night = prvsmin.groupby(['neighbourhood_group'])['price'].mean().reset_index()\n",
        "avg_price_per_night"
      ],
      "metadata": {
        "id": "EZy2as5h6tyW"
      },
      "execution_count": null,
      "outputs": []
    },
    {
      "cell_type": "code",
      "source": [
        "sns.barplot(avg_price_per_night['neighbourhood_group'],avg_price_per_night['price'])\n"
      ],
      "metadata": {
        "id": "zR9zCUSa6z3X"
      },
      "execution_count": null,
      "outputs": []
    },
    {
      "cell_type": "markdown",
      "source": [
        "We can see that average price per night is high in Manhattan followed by Brooklyn."
      ],
      "metadata": {
        "id": "2LKmgHlK68Tn"
      }
    },
    {
      "cell_type": "markdown",
      "source": [
        "### **Average price per night for each room type throughout New York**"
      ],
      "metadata": {
        "id": "Gz4HJzVn6-Oh"
      }
    },
    {
      "cell_type": "code",
      "source": [
        "avg_price_per_night_nbd_room_type = prvsmin.groupby(['room_type'])['price'].mean().reset_index()\n",
        "avg_price_per_night_nbd_room_type"
      ],
      "metadata": {
        "id": "Fpr0ECYL7BZO"
      },
      "execution_count": null,
      "outputs": []
    },
    {
      "cell_type": "code",
      "source": [
        "sns.barplot(avg_price_per_night_nbd_room_type['room_type'],avg_price_per_night_nbd_room_type['price'])\n"
      ],
      "metadata": {
        "id": "diZryd0H7I9I"
      },
      "execution_count": null,
      "outputs": []
    },
    {
      "cell_type": "markdown",
      "source": [
        "We can observe that Entire home/Apartment price per night is high when compared to other room types"
      ],
      "metadata": {
        "id": "JrOPT12W7QBG"
      }
    },
    {
      "cell_type": "markdown",
      "source": [
        "### **Longitude and Latitude**\n",
        "\n",
        "We considered all possible columns for visualization. Why not Longitude and Latitude ? Here we are just trying to do the visualization even more attractive with the fancy maps of geological graph."
      ],
      "metadata": {
        "id": "oB4vdfoX7SgC"
      }
    },
    {
      "cell_type": "markdown",
      "source": [
        "**Map based on properties of Neighbourhood_group/cities**"
      ],
      "metadata": {
        "id": "WVKlXjpS7TCw"
      }
    },
    {
      "cell_type": "code",
      "source": [
        "sns.scatterplot(airbnb_df.longitude,airbnb_df.latitude,hue=airbnb_df.neighbourhood_group)"
      ],
      "metadata": {
        "id": "6blZko_E7M6C"
      },
      "execution_count": null,
      "outputs": []
    },
    {
      "cell_type": "markdown",
      "source": [
        "**Maps with respect to room_types available throughout NY**"
      ],
      "metadata": {
        "id": "PPlOYaeE70jM"
      }
    },
    {
      "cell_type": "code",
      "source": [
        "sns.scatterplot(airbnb_df.longitude,airbnb_df.latitude,hue=airbnb_df.room_type,palette='Accent')\n"
      ],
      "metadata": {
        "id": "NsutnF227lH9"
      },
      "execution_count": null,
      "outputs": []
    },
    {
      "cell_type": "markdown",
      "source": [
        "**Maps which tells us about the price variation of all available properties**"
      ],
      "metadata": {
        "id": "K3qsTSwY8JFL"
      }
    },
    {
      "cell_type": "code",
      "source": [
        "sns.scatterplot(airbnb_df.longitude,airbnb_df.latitude,hue=airbnb_df.price)"
      ],
      "metadata": {
        "id": "bhUcbPue76Wt"
      },
      "execution_count": null,
      "outputs": []
    },
    {
      "cell_type": "markdown",
      "source": [
        "**Conclusion:**\n",
        "\n",
        "(1) Price depends on Neighbourhood_group. Its high in Manhattan.\n",
        "\n",
        "(2) Within neighbourhood_groups, price fluctuates between the range. But Manhattan is the place where we see alot ups and downs in price, giving the colclusion that Manhattan is the city which contains highest price and aswell as lowest price.\n",
        "\n",
        "(3) We can get the famous host (hosy_id 219517861 from Manhattan) from the number of properties he is offering (OR) We can find the famous host(JordanHost_Id-47621202\t from Queens) with respect to most reviewed place as well.\n",
        "\n",
        "(4) People reviewed at most in properties of Queens which has the lowest prices for their properties as well.\n",
        "\n",
        "(5) Throughout NY, Entire home/apt is the room_type which is mostly in demand.\n",
        "\n",
        "(6) Manhattan is the place which is famous and can be a good option for the companies to invest on properties of Entire home/Apt."
      ],
      "metadata": {
        "id": "W3Cm9sbg8Sgu"
      }
    }
  ]
}